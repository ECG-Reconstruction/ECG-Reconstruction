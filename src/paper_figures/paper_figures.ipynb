{
 "cells": [
  {
   "cell_type": "code",
   "execution_count": 1,
   "metadata": {},
   "outputs": [],
   "source": [
    "import os\n",
    "import sys\n",
    "\n",
    "sys.path.append(os.path.realpath(\"..\"))"
   ]
  },
  {
   "cell_type": "code",
   "execution_count": 4,
   "metadata": {},
   "outputs": [],
   "source": [
    "import h5py\n",
    "import numpy as np\n",
    "from ipywidgets import interact\n",
    "from matplotlib import pyplot as plt\n",
    "from tqdm.auto import tqdm\n",
    "\n",
    "from ecg.dataset import Dataset, DatasetConfig\n",
    "from ecg.util.path import resolve_path"
   ]
  },
  {
   "cell_type": "markdown",
   "metadata": {},
   "source": [
    "## ECG's With Extremely Large Voltages At Signal Endings"
   ]
  },
  {
   "cell_type": "code",
   "execution_count": 3,
   "metadata": {},
   "outputs": [],
   "source": [
    "# plot_count = 0\n",
    "# with h5py.File(resolve_path(\"src/ecg/dataset-gen/code15%/downloads/exams_part14.hdf5\")) as hdf5_file:\n",
    "#     for exam_id, tracing in zip(hdf5_file[\"exam_id\"], hdf5_file[\"tracings\"]):\n",
    "#         tracing = tracing.transpose()\n",
    "#         if (tracing.max(axis=1) - tracing.min(axis=1)).max() > 50:\n",
    "#             plt.figure()\n",
    "#             plt.title(str(exam_id))\n",
    "#             for lead in tracing:\n",
    "#                 plt.plot(lead)\n",
    "#             plot_count += 1\n",
    "#             if plot_count >= 15:\n",
    "#                 break"
   ]
  },
  {
   "cell_type": "code",
   "execution_count": 4,
   "metadata": {},
   "outputs": [],
   "source": [
    "import matplotlib as mpl\n",
    "\n",
    "mpl.use(\"pgf\")\n",
    "\n",
    "plt.rcParams.update({\n",
    "    \"font.family\": \"serif\",\n",
    "    # Use LaTeX default serif font.\n",
    "    \"font.serif\": [],\n",
    "    # Use specific cursive fonts.\n",
    "    # \"font.cursive\": [\"Comic Neue\", \"Comic Sans MS\"],\n",
    "    \"pgf.rcfonts\": False,\n",
    "    \"pgf.texsystem\": \"pdflatex\",\n",
    "})\n",
    "\n",
    "with h5py.File(resolve_path(\"src/ecg/dataset-gen/code15%/downloads/exams_part14.hdf5\")) as hdf5_file:\n",
    "    for exam_id, tracing in zip(hdf5_file[\"exam_id\"], hdf5_file[\"tracings\"]):\n",
    "        if exam_id == 98775:\n",
    "            break\n",
    "\n",
    "font = {\n",
    "    'family': 'serif',\n",
    "    # 'color':  'darkred',\n",
    "    # 'weight': 'normal',\n",
    "    # 'size': 12,\n",
    "}\n",
    "\n",
    "plt.figure(figsize=(5, 4))\n",
    "plt.plot(np.arange(4096) / 400, tracing[:, 6])\n",
    "plt.xlabel(\"Time (second)\", fontdict=font)\n",
    "plt.ylabel(\"Voltage (mV)\", fontdict=font)\n",
    "plt.savefig(\"large_voltages_at_endings.pgf\", format=\"pgf\")"
   ]
  },
  {
   "cell_type": "code",
   "execution_count": 8,
   "metadata": {},
   "outputs": [],
   "source": [
    "import matplotlib as mpl\n",
    "\n",
    "mpl.use(\"pgf\")\n",
    "\n",
    "plt.rcParams.update(\n",
    "    {\n",
    "        \"font.family\": \"serif\",\n",
    "        # Use LaTeX default serif font.\n",
    "        \"font.serif\": [],\n",
    "        # Use specific cursive fonts.\n",
    "        # \"font.cursive\": [\"Comic Neue\", \"Comic Sans MS\"],\n",
    "        \"pgf.rcfonts\": False,\n",
    "        \"pgf.texsystem\": \"pdflatex\",\n",
    "    }\n",
    ")\n",
    "\n",
    "for element in Dataset(\n",
    "    DatasetConfig(\n",
    "        hdf5_filename=\"ptb-xl/test.hdf5\",\n",
    "        predicate=None,\n",
    "        signal_dtype=\"float32\",\n",
    "        in_leads=[],\n",
    "        out_leads=[],\n",
    "        filter_type=\"butter\",\n",
    "        filter_args={\n",
    "            \"N\": 3,\n",
    "            \"Wn\": (0.5, 60),\n",
    "            \"btype\": \"bandpass\",\n",
    "        },\n",
    "        mean_normalization=False,\n",
    "        feature_scaling=False,\n",
    "        include_original_signal=True,\n",
    "        include_filtered_signal=True,\n",
    "        include_labels={\"id\": \"id\"},\n",
    "    )\n",
    "):\n",
    "    if element[\"id\"] == 11124:\n",
    "        break\n",
    "\n",
    "font = {\n",
    "    \"family\": \"serif\",\n",
    "    # 'color':  'darkred',\n",
    "    # 'weight': 'normal',\n",
    "    # 'size': 12,\n",
    "}\n",
    "\n",
    "plt.figure(figsize=(5, 4))\n",
    "lead_index = 5\n",
    "plt.plot(\n",
    "    np.arange(5000) / 500, element[\"original_signal\"][lead_index], label=\"Original\"\n",
    ")\n",
    "plt.plot(np.arange(5000) / 500, element[\"filtered_signal\"][lead_index], label=\"Filtered\")\n",
    "plt.xlabel(\"Time (second)\", fontdict=font)\n",
    "plt.ylabel(\"Voltage (mV)\", fontdict=font)\n",
    "plt.legend()\n",
    "plt.savefig(\"baseline_wander.pgf\", format=\"pgf\")"
   ]
  }
 ],
 "metadata": {
  "kernelspec": {
   "display_name": "ecg-reconstruction",
   "language": "python",
   "name": "python3"
  },
  "language_info": {
   "codemirror_mode": {
    "name": "ipython",
    "version": 3
   },
   "file_extension": ".py",
   "mimetype": "text/x-python",
   "name": "python",
   "nbconvert_exporter": "python",
   "pygments_lexer": "ipython3",
   "version": "3.10.12"
  },
  "orig_nbformat": 4
 },
 "nbformat": 4,
 "nbformat_minor": 2
}
